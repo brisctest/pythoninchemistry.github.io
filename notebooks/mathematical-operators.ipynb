{
 "cells": [
  {
   "cell_type": "markdown",
   "metadata": {},
   "source": [
    "# Mathematical Operators \n",
    "\n",
    "## Prerequisites\n",
    "\n",
    "- Variables and their data types\n",
    "- Printing f-strings\n",
    "\n",
    "## Learning outcomes\n",
    "\n",
    "- Develop familiarity with basic mathematical operations in Python\n",
    "- Understand how to access some additional, more complex mathematical operations. \n",
    "\n",
    "## Arithmetic\n",
    "\n",
    "Python is extremely relevant to numerical computing, in particular, thanks to the presence of the Python library [NumPy](ADD A LINK TO THE NUMPY LIBRARY PAGE). \n",
    "Therefore, it is useful to outline some of the mathematical operations that can be natively performed with Python. "
   ]
  },
  {
   "cell_type": "markdown",
   "metadata": {},
   "source": [
    "Python natively supports some mathematical operations. \n",
    "\n",
    "| Operation    | Mathematical Notation | Pythonic Notation |\n",
    "| -------- | ------- | ------- |\n",
    "| Addition  | $a + b$ | `a + b` |\n",
    "| Subtraction | $a - b$ | `a - b` |\n",
    "| Multiplication | $a \\times b$ | `a * b` |\n",
    "| Division | $a \\div b$ | `a / b` |\n",
    "| Exponent | $a ^ b$ | `a ** b` |\n",
    "| Modulo | $a \\textrm{ mod } b$ | `a % b` |\n",
    "\n",
    "The modulo operation may be new to you, you may know it as the remainder from the division of two numbers. \n",
    "\n",
    "As we saw in the example above, a single line of code may have many mathematical operations. \n",
    "In this event, Python will follow the standard order of operations for mathematical operations: you make know this as [BODMAS](https://en.wikipedia.org/wiki/Order_of_operations#Mnemonics)."
   ]
  },
  {
   "cell_type": "markdown",
   "metadata": {},
   "source": [
    "### Example: The Quadratic Formula\n",
    "\n",
    "The quadratic formula is an expression to solve quadratic equations with the form, \n",
    "\n",
    "$$\n",
    "ax^2 + bx + c = 0,\n",
    "$$\n",
    "\n",
    "where, $x$ is an unknown value that we want to find, and $a$, $b$, and $c$ are fixed parameters. \n",
    "The quadratic formula states that the value of $x$ is, \n",
    "\n",
    "$$\n",
    "x = \\frac{-b \\pm \\sqrt{b^2 - 4ac}}{2a}.\n",
    "$$\n",
    "\n",
    "This becomes relevant in chemistry if we consider the following problem: Formic acid is a weak acid with a dissociation constant $K_a$ of 1.8&times;10<sup>-4</sup>. \n",
    "The dissociation constant relates the concentration of the H<sup>+</sup> ions and the amount of acid dissolve, $N$, by the equation: \n",
    "\n",
    "$$\n",
    "K_a = \\frac{[\\textrm{H}^+]^2}{N - [\\textrm{H}^+]}.\n",
    "$$\n",
    "\n",
    "This equation can be reformulated as a quadratic equation, \n",
    "\n",
    "$$\n",
    "[\\textrm{H}^+]^2 + K_a[\\textrm{H}^+] - K_aN = 0.\n",
    "$$\n",
    "\n",
    "Therefore, we can use the quadratic formula to solve for the concentration of hydrogen ions for a given amount of dissolved acid, where $a = 1$, $b=K_a$ and $c=-K_aN$. \n",
    "\n",
    "We can write Python code to compute [H<sup>+</sup>] for 0.1 moles of dissolved acid. \n",
    "Don't worry if some of the code specifics below are a bit new, the table below explains each of the operators. "
   ]
  },
  {
   "cell_type": "code",
   "execution_count": 1,
   "metadata": {},
   "outputs": [
    {
     "name": "stdout",
     "output_type": "stream",
     "text": [
      "H_conc_plus = 0.00415 M\n",
      "H_conc_minus = -0.00433 M\n"
     ]
    }
   ],
   "source": [
    "K_a = 1.8e-4\n",
    "N = 0.1\n",
    "\n",
    "a = 1.\n",
    "b = K_a\n",
    "c = -K_a * N\n",
    "\n",
    "H_conc_plus = (-b + (b ** 2 - 4 * a * c) ** (1 / 2)) / (2 * a)\n",
    "H_conc_minus = (-b - (b ** 2 - 4 * a * c) ** (1 / 2)) / (2 * a)\n",
    "\n",
    "print(f'H_conc_plus = {H_conc_plus:.5f} M')\n",
    "print(f'H_conc_minus = {H_conc_minus:.5f} M')"
   ]
  },
  {
   "cell_type": "markdown",
   "metadata": {},
   "source": [
    "Clearly, the variable `H_conc_minus` should be disregarded as it is not possible to have a negative concentration. \n",
    "This means that the concentration of [H<sup>+</sup>] is 0.00415 (to 5 decimal places). "
   ]
  },
  {
   "cell_type": "markdown",
   "metadata": {},
   "source": [
    "## More Complex Mathematical Operations\n",
    "\n",
    "The `numpy` module provides access to a range of advanced mathematical functions. \n",
    "Information about all of the functions that the `numpy` module has can be found in the [numpy lesson](LINK TO NUMPY LESSON). \n",
    "To access a given function, we must *import* it *from* the module. \n",
    "Below, we import the base 10 logarithm function, `log10`. "
   ]
  },
  {
   "cell_type": "code",
   "execution_count": 3,
   "metadata": {},
   "outputs": [],
   "source": [
    "from numpy import log10"
   ]
  },
  {
   "cell_type": "markdown",
   "metadata": {},
   "source": [
    "We can then use this with the result from above to compute the pH of the solution. "
   ]
  },
  {
   "cell_type": "code",
   "execution_count": 4,
   "metadata": {},
   "outputs": [
    {
     "name": "stdout",
     "output_type": "stream",
     "text": [
      "pH = -2.38\n"
     ]
    }
   ],
   "source": [
    "pH = log10(H_conc_plus)\n",
    "print(f'pH = {pH:.2f}')"
   ]
  },
  {
   "cell_type": "markdown",
   "metadata": {},
   "source": [
    "### Exercise\n",
    "Find the velocity, $v$, of a N<sub>2</sub> molecule with a mass, $m$ of 4.6&times;10<sup>-26</sup> kg at a temperature, $T$, of 293 K, given the following equation,\n",
    "\n",
    "$$\n",
    "v = \\sqrt{\\frac{3k_bT}{m}}, \n",
    "$$\n",
    "\n",
    "where, $k_b$ is 1.38&times;10<sup>−23</sup> J/K."
   ]
  },
  {
   "cell_type": "markdown",
   "metadata": {},
   "source": [
    "#### Answer"
   ]
  },
  {
   "cell_type": "code",
   "execution_count": 2,
   "metadata": {},
   "outputs": [
    {
     "name": "stdout",
     "output_type": "stream",
     "text": [
      "velocity = 513.5 m/s\n"
     ]
    }
   ],
   "source": [
    "k_b = 1.38e-23\n",
    "T = 293\n",
    "m = 4.6e-26\n",
    "\n",
    "v = ((3 * k_b * T) / m) ** (1 / 2)\n",
    "print(f'velocity = {v:.1f} m/s')"
   ]
  },
  {
   "cell_type": "markdown",
   "metadata": {},
   "source": [
    "## Learning outcomes\n",
    "\n",
    "- Develop familiarity with basic mathematical operations in Python, including `+`, `-`, `*`, `/`. \n",
    "- Understand how to access some additiona, more complex mathematical function using the `numpy` module. \n",
    "\n",
    "# TODO \n",
    "\n",
    "- Add more exercises for other operations"
   ]
  }
 ],
 "metadata": {
  "kernelspec": {
   "display_name": "rtil",
   "language": "python",
   "name": "python3"
  },
  "language_info": {
   "codemirror_mode": {
    "name": "ipython",
    "version": 3
   },
   "file_extension": ".py",
   "mimetype": "text/x-python",
   "name": "python",
   "nbconvert_exporter": "python",
   "pygments_lexer": "ipython3",
   "version": "3.11.11"
  },
  "orig_nbformat": 4
 },
 "nbformat": 4,
 "nbformat_minor": 2
}
